{
 "cells": [
  {
   "cell_type": "code",
   "execution_count": 42,
   "id": "13385203",
   "metadata": {},
   "outputs": [],
   "source": [
    "import sqlite3 as sqlite\n",
    "import pandas as pd\n",
    "#Acessando o banco de dados\n",
    "conn = sqlite.connect('clicksign_test.db')\n",
    "cursor = conn.cursor()\n",
    "\n",
    "home_team_goal : pd.DataFrame= pd.read_sql_query(\"\"\"\n",
    "        WITH\n",
    "        base_metric AS (\n",
    "            SELECT \n",
    "                -- Semana começando na segunda\n",
    "                date(strftime('%s', date) - 86400 * ((strftime('%w', date) + 6) % 7), 'unixepoch') as week,\n",
    "                home_team_goal\n",
    "            FROM match\n",
    "                INNER JOIN team\n",
    "                    ON team.team_api_id = match.home_team_api_id\n",
    "        )\n",
    "        \n",
    "            \n",
    "        SELECT \n",
    "            week,\n",
    "            AVG(home_team_goal) OVER (PARTITION BY week) as average_home_team_goals\n",
    "        FROM base_metric\n",
    "        GROUP BY week\n",
    "        ORDER BY week DESC\n",
    "\n",
    "        \n",
    "    \"\"\", conn)\n",
    "    \n",
    "#Finalizando a conexão\n",
    "conn.commit()\n",
    "conn.close()\n",
    "home_team_goal.to_csv('home_team_goal_week_report.csv')"
   ]
  },
  {
   "cell_type": "code",
   "execution_count": null,
   "id": "5f3df982",
   "metadata": {},
   "outputs": [],
   "source": []
  }
 ],
 "metadata": {
  "kernelspec": {
   "display_name": "Python 3 (ipykernel)",
   "language": "python",
   "name": "python3"
  },
  "language_info": {
   "codemirror_mode": {
    "name": "ipython",
    "version": 3
   },
   "file_extension": ".py",
   "mimetype": "text/x-python",
   "name": "python",
   "nbconvert_exporter": "python",
   "pygments_lexer": "ipython3",
   "version": "3.11.3"
  }
 },
 "nbformat": 4,
 "nbformat_minor": 5
}
